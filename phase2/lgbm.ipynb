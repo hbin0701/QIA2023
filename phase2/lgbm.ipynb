{
 "cells": [
  {
   "cell_type": "code",
   "execution_count": 9,
   "metadata": {},
   "outputs": [
    {
     "name": "stdout",
     "output_type": "stream",
     "text": [
      "acc 0.7638888888888888\n",
      "acc 0.6666666666666666\n",
      "acc 0.7083333333333334\n",
      "acc 0.7638888888888888\n"
     ]
    }
   ],
   "source": [
    "import pandas as pd\n",
    "import numpy as np\n",
    "from sklearn.model_selection import KFold, StratifiedKFold\n",
    "\n",
    "all_predictions = []\n",
    "\n",
    "for THIS_IDX in range(4):\n",
    "    q_category = [0, 1, 2, 3, 2, 0, 3, 2, 3, 2, 0, 1, 2, 3, 0, 0, 1, 2, 1, 3, 0, 1, 2, 3, 2, 0, 2, 1, 3, 1, 0, 1, 2, 3, 1, 0, 1, 2, 3, 1, 0, 2, 0, 3, 1, 1, 2, 2, 3, 1, 0, 1, 0, 2, 1, 3, 2, 2, 3, 3]\n",
    "    q_category = q_category\n",
    "\n",
    "    main_df = pd.read_csv(\"/workspace/final_QIA/merged_train.csv\")\n",
    "    test_df = pd.read_csv(\"/workspace/final_QIA/phase2/test.csv\")\n",
    "    # questions = pd.read_excel(\"/workspace/COMP/QIA/Question.xlsx\")\n",
    "\n",
    "    q_list = [i + 1 for i in range(len(q_category)) if q_category[i] == THIS_IDX]\n",
    "\n",
    "    def proc_short(x):\n",
    "        if \"아니다\" in x:\n",
    "            return 0\n",
    "        elif \"중립\" in x:\n",
    "            return 0.5\n",
    "        else:\n",
    "            return 1\n",
    "\n",
    "    main_df = main_df[main_df.Q_number.isin(q_list)]\n",
    "    main_df['Answer'] = main_df['Short_Answer'] + \" \" + main_df['Long_Answer']\n",
    "    main_df['Final_Answer'] = main_df['Long_Answer']\n",
    "    main_df['Short'] = main_df['Short_Answer'].apply(lambda x: proc_short(x))\n",
    "\n",
    "    test_df = test_df[test_df.Q_number.isin(q_list)]\n",
    "    test_df['Short'] = test_df['Short_Answer'].apply(lambda x: proc_short(x))\n",
    "\n",
    "    # train = list(range(1, 241))    \n",
    "    # val = list(range(241, 361))\n",
    "\n",
    "    # rseed = 42\n",
    "\n",
    "    # tgt = list(main_df['User_ID'].unique())\n",
    "    # mbtis = [main_df[main_df.User_ID == x].iloc[0]['MBTI'] for x in tgt]\n",
    "    # mbti_labels = [0 if x[THIS_IDX] in \"ISTJ\" else 1 for x in mbtis] \n",
    "\n",
    "    # kf = StratifiedKFold(n_splits=3, shuffle=True, random_state=rseed)\n",
    "    # kf = [x for x in kf.split(tgt, mbti_labels)]\n",
    "\n",
    "    # train = [tgt[i] for i in kf[0][0]] # only use the first seed. -> second seed\n",
    "    # val =  [tgt[i] for i in kf[0][1]] # only use the first seed. -> second seed\n",
    "\n",
    "    values = main_df.groupby('User_ID')['Short'].apply(lambda x: list(x)).tolist()\n",
    "    mbtis =  main_df.groupby('User_ID')['MBTI'].apply(lambda x: 0 if list(x)[0][THIS_IDX] in \"ISTJ\" else 1).tolist()\n",
    "\n",
    "    # train_df = main_df[main_df.User_ID.isin(train)]\n",
    "    # val_df = main_df[main_df.User_ID.isin(val)]\n",
    "\n",
    "    test_values = np.array(test_df.groupby('User_ID')['Short'].apply(lambda x: list(x)).tolist())\n",
    "    \n",
    "    # print(test_values.shape)\n",
    "    if len(test_values.shape) == 1:\n",
    "        test_values = np.reshape(test_values, (len(test_df), -1))\n",
    "\n",
    "    for idx in range(len(values)):\n",
    "        if len(values) != len(q_list):\n",
    "            values[idx].extend([0 for _ in range(len(q_list) - len(values[idx]))])\n",
    "\n",
    "\n",
    "    data = np.array(values)\n",
    "    if len(data.shape) == 1:\n",
    "        data = np.reshape(data, (360, -1))\n",
    "\n",
    "    labels = np.array(mbtis)\n",
    "    idxs = np.array(range(360))\n",
    "\n",
    "    from sklearn.model_selection import train_test_split\n",
    "    import lightgbm as lgb\n",
    "\n",
    "    X_train, X_valid, y_train, y_valid = train_test_split(data, labels, test_size=1/5, random_state=42)\n",
    "\n",
    "    # y_tr = labels[y_train]\n",
    "    # y_val = labels[y_valid]\n",
    "\n",
    "    # start = 0\n",
    "    # end = 240\n",
    "    # X_train, y_train = data[end:], labels[end:]\n",
    "    # X_valid, y_valid = data[start:end], labels[start:end] \n",
    "\n",
    "    # Create an instance of the LGBMClassifier or LGBMRegressor\n",
    "    model = lgb.LGBMClassifier()  # or lgb.LGBMRegressor() for regression\n",
    "    model.fit(X_train, y_train)\n",
    "\n",
    "    predictions = model.predict(test_values)\n",
    "    all_predictions.append(predictions)\n",
    "\n",
    "    predictions = model.predict(X_valid)\n",
    "    accuracy = (predictions == y_valid).mean()  \n",
    "    print(\"acc\", accuracy)\n",
    "\n",
    "    # b = len([ x for x in sorted(y_valid[predictions != y_val]) if x > 240] )\n",
    "    # print(\"phase 2 acc:\",  b / len([x for x in y_valid if x > 240]))\n",
    "    # print()"
   ]
  },
  {
   "cell_type": "code",
   "execution_count": 12,
   "metadata": {},
   "outputs": [],
   "source": [
    "### TEST ###\n",
    "import csv \n",
    "fname = \"lgbm_setting_b.csv\"\n",
    "\n",
    "# define the column names\n",
    "fieldnames = ['User_ID', 'I/E', 'S/N', 'T/F', 'J/P']\n",
    "users = test_df.User_ID.unique()\n",
    "\n",
    "# open the CSV file for writing\n",
    "with open(f\"/workspace/final_QIA_{fname}\", 'w', newline='') as csvfile:\n",
    "    # create a writer object\n",
    "    writer = csv.DictWriter(csvfile, fieldnames=fieldnames)\n",
    "\n",
    "    # write the header row\n",
    "    writer.writeheader()\n",
    "\n",
    "    for idx in range(120):\n",
    "        \n",
    "        ie = all_predictions[0][idx]\n",
    "        sn = all_predictions[1][idx]\n",
    "        tf = all_predictions[2][idx]\n",
    "        jp = all_predictions[3][idx]\n",
    "\n",
    "        writer.writerow({\n",
    "            'User_ID': users[idx],\n",
    "            'I/E': ie,\n",
    "            'S/N': sn,\n",
    "            'T/F': tf,\n",
    "            'J/P': jp\n",
    "        })"
   ]
  },
  {
   "cell_type": "code",
   "execution_count": 71,
   "metadata": {},
   "outputs": [
    {
     "data": {
      "text/plain": [
       "array([0, 0, 1, 0, 1, 1, 1, 0, 0, 0, 0, 0, 0, 1, 1, 0, 1, 1, 1, 1, 1, 1,\n",
       "       1, 1, 1, 0, 0, 1, 1, 0, 1, 0, 1, 1, 0, 1, 0, 0, 0, 1, 0, 0, 1, 0,\n",
       "       0, 1, 1, 0, 0, 1, 1, 0, 0, 0, 0, 1, 0, 0, 0, 0, 1, 0, 1, 0, 1, 0,\n",
       "       1, 1, 0, 0, 0, 0, 1, 0, 0, 1, 0, 0, 0, 0, 1, 1, 1, 1, 1, 0, 1, 0,\n",
       "       1, 1, 1, 0, 1, 0, 1, 0, 0, 0, 0, 0, 1, 0, 1, 0, 1, 0, 1, 0, 0, 1,\n",
       "       1, 1, 0, 0, 0, 0, 1, 0, 0, 0])"
      ]
     },
     "execution_count": 71,
     "metadata": {},
     "output_type": "execute_result"
    }
   ],
   "source": [
    "predictions"
   ]
  },
  {
   "cell_type": "code",
   "execution_count": null,
   "metadata": {},
   "outputs": [],
   "source": []
  }
 ],
 "metadata": {
  "kernelspec": {
   "display_name": "base",
   "language": "python",
   "name": "python3"
  },
  "language_info": {
   "codemirror_mode": {
    "name": "ipython",
    "version": 3
   },
   "file_extension": ".py",
   "mimetype": "text/x-python",
   "name": "python",
   "nbconvert_exporter": "python",
   "pygments_lexer": "ipython3",
   "version": "3.8.10"
  },
  "orig_nbformat": 4,
  "vscode": {
   "interpreter": {
    "hash": "d4d1e4263499bec80672ea0156c357c1ee493ec2b1c70f0acce89fc37c4a6abe"
   }
  }
 },
 "nbformat": 4,
 "nbformat_minor": 2
}
